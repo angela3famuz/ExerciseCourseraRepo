{
 "cells": [
  {
   "cell_type": "markdown",
   "id": "6742a19c-6c7d-4e0e-94e9-c5440d8d6abe",
   "metadata": {
    "tags": []
   },
   "source": [
    "# Data Science Tools and Ecosystem"
   ]
  },
  {
   "cell_type": "markdown",
   "id": "e4ed1a0a-d2c5-4249-a88a-9d333d5822bb",
   "metadata": {
    "tags": []
   },
   "source": [
    "## In this notebook, Data Science Tools and Ecosystem are summarized."
   ]
  },
  {
   "cell_type": "markdown",
   "id": "2aa6eda6-3230-4439-af40-1c0f3e91cf95",
   "metadata": {},
   "source": [
    "### **Objectives:**\n",
    "##### - List of popular languages\n",
    "##### - List of commonly used libraries\n",
    "##### - List of Data Science Tools\n",
    "##### - Basic Arithmetic Expressions"
   ]
  },
  {
   "cell_type": "markdown",
   "id": "712904fa-498a-4523-b14e-1ed27397e172",
   "metadata": {
    "tags": []
   },
   "source": [
    "##### Some of the popular languages that Data Scientists use are:\n",
    "##### 1. Python\n",
    "##### 2. R\n",
    "##### 3. Scala"
   ]
  },
  {
   "cell_type": "markdown",
   "id": "aee52611-f180-450e-803d-81ba1255b0cd",
   "metadata": {
    "tags": []
   },
   "source": [
    "##### Some of the commonly used libraries used by Data Scientists include:\n",
    "##### 1. TensorFlow\n",
    "##### 2. NumPy\n",
    "##### 3. Pandas"
   ]
  },
  {
   "cell_type": "markdown",
   "id": "ec9458c8-5428-4a82-9b8c-68604a8eb13d",
   "metadata": {
    "tags": []
   },
   "source": [
    "|Data Science Tools|\n",
    "|------------------|\n",
    "|RStudio|\n",
    "|Apache Spark|\n",
    "|Apache Hadoop|"
   ]
  },
  {
   "cell_type": "markdown",
   "id": "febfc92d-6483-4761-a1b7-f9f949716242",
   "metadata": {
    "tags": []
   },
   "source": [
    "### Below are a few examples of evaluating arithmetic expressions in Python"
   ]
  },
  {
   "cell_type": "code",
   "execution_count": 5,
   "id": "0d285e46-6203-4775-90fc-87ae53b16f26",
   "metadata": {
    "tags": []
   },
   "outputs": [
    {
     "data": {
      "text/plain": [
       "17"
      ]
     },
     "execution_count": 5,
     "metadata": {},
     "output_type": "execute_result"
    }
   ],
   "source": [
    "#This a simple arithmetic expression to mutiply then add integers\n",
    "(3*4)+5"
   ]
  },
  {
   "cell_type": "code",
   "execution_count": 6,
   "id": "98e1fde6-ddf4-4125-8ba9-a112d4529981",
   "metadata": {
    "tags": []
   },
   "outputs": [
    {
     "data": {
      "text/plain": [
       "3.3333333333333335"
      ]
     },
     "execution_count": 6,
     "metadata": {},
     "output_type": "execute_result"
    }
   ],
   "source": [
    "#This will convert 200 minutes to hours by diving by 60\n",
    "200/60"
   ]
  },
  {
   "cell_type": "code",
   "execution_count": null,
   "id": "babce9ff-0e76-49ae-aa8d-492336901058",
   "metadata": {},
   "outputs": [],
   "source": []
  }
 ],
 "metadata": {
  "kernelspec": {
   "display_name": "Python",
   "language": "python",
   "name": "conda-env-python-py"
  },
  "language_info": {
   "codemirror_mode": {
    "name": "ipython",
    "version": 3
   },
   "file_extension": ".py",
   "mimetype": "text/x-python",
   "name": "python",
   "nbconvert_exporter": "python",
   "pygments_lexer": "ipython3",
   "version": "3.7.12"
  }
 },
 "nbformat": 4,
 "nbformat_minor": 5
}
