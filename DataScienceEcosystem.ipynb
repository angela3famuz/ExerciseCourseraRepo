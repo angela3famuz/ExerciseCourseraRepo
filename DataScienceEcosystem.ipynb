{
 "cells": [
  {
   "cell_type": "markdown",
   "id": "aee9eb50-d4e5-4371-9a21-d3483468b29c",
   "metadata": {
    "tags": []
   },
   "source": [
    "# Data Science Tools and Ecosystem\n",
    "## In this notebook, Data Science Tools and Ecosystem are summarized."
   ]
  },
  {
   "cell_type": "markdown",
   "id": "2aa6eda6-3230-4439-af40-1c0f3e91cf95",
   "metadata": {},
   "source": [
    "### **Objectives:**\n",
    "##### - List of popular languages\n",
    "##### - List of commonly used libraries\n",
    "##### - List of Data Science Tools\n",
    "##### - Basic Arithmetic Expressions"
   ]
  },
  {
   "cell_type": "markdown",
   "id": "527ecdf0-ef67-478b-8dd5-14c1047cf9c1",
   "metadata": {
    "tags": []
   },
   "source": [
    "##### Some of the popular languages that Data Scientists use are:\n",
    "##### 1. Python\n",
    "##### 2. R\n",
    "##### 3. Scala\n",
    "\n",
    "##### Some of the commonly used libraries used by Data Scientists include:\n",
    "##### 1. TensorFlow\n",
    "##### 2. NumPy\n",
    "##### 3. Pandas\n",
    "\n",
    "|Data Science Tools|\n",
    "|------------------|\n",
    "|RStudio|\n",
    "|Apache Spark|\n",
    "|Apache Hadoop|\n",
    "\n",
    "### Below are a few examples of evaluating arithmetic expressions in Python"
   ]
  },
  {
   "cell_type": "code",
   "execution_count": 5,
   "id": "0d285e46-6203-4775-90fc-87ae53b16f26",
   "metadata": {
    "tags": []
   },
   "outputs": [
    {
     "data": {
      "text/plain": [
       "17"
      ]
     },
     "execution_count": 5,
     "metadata": {},
     "output_type": "execute_result"
    }
   ],
   "source": [
    "#This a simple arithmetic expression to mutiply then add integers\n",
    "(3*4)+5"
   ]
  },
  {
   "cell_type": "code",
   "execution_count": 6,
   "id": "98e1fde6-ddf4-4125-8ba9-a112d4529981",
   "metadata": {
    "tags": []
   },
   "outputs": [
    {
     "data": {
      "text/plain": [
       "3.3333333333333335"
      ]
     },
     "execution_count": 6,
     "metadata": {},
     "output_type": "execute_result"
    }
   ],
   "source": [
    "#This will convert 200 minutes to hours by diving by 60\n",
    "200/60"
   ]
  },
  {
   "cell_type": "code",
   "execution_count": null,
   "id": "dc881289-7114-48fe-82ca-19c97e4e2d87",
   "metadata": {},
   "outputs": [],
   "source": []
  }
 ],
 "metadata": {
  "kernelspec": {
   "display_name": "Python",
   "language": "python",
   "name": "conda-env-python-py"
  },
  "language_info": {
   "codemirror_mode": {
    "name": "ipython",
    "version": 3
   },
   "file_extension": ".py",
   "mimetype": "text/x-python",
   "name": "python",
   "nbconvert_exporter": "python",
   "pygments_lexer": "ipython3",
   "version": "3.7.12"
  }
 },
 "nbformat": 4,
 "nbformat_minor": 5
}
